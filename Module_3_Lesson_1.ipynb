{
 "cells": [
  {
   "cell_type": "code",
   "execution_count": 27,
   "metadata": {},
   "outputs": [],
   "source": [
    "import numpy as np\n",
    "import sympy as sp\n",
    "import math\n",
    "from matplotlib import pyplot\n",
    "%matplotlib inline"
   ]
  },
  {
   "cell_type": "code",
   "execution_count": 28,
   "metadata": {},
   "outputs": [],
   "source": [
    "nx = 81\n",
    "L = 4\n",
    "u_max = 1\n",
    "rho_max = 10\n",
    "nt = 30\n",
    "rho_L = 5\n",
    "xL = 2\n",
    "dx = L / (nx-1)\n",
    "sigma = 1\n",
    "dt = sigma*dx/u_max\n",
    "\n",
    "x = np.linspace(0, L, num=nx)\n",
    "def ic(x, xL, rho_L):\n",
    "    rho0=np.zeros(nx)\n",
    "    mask = np.where((x >= 0) & (x<xL))\n",
    "    rho0[mask] = rho_L * x[mask] / xL\n",
    "    \n",
    "    return rho0"
   ]
  },
  {
   "cell_type": "code",
   "execution_count": 29,
   "metadata": {},
   "outputs": [
    {
     "data": {
      "text/plain": [
       "Text(0.5, 1.0, 'Initial Car Density for Part A')"
      ]
     },
     "execution_count": 29,
     "metadata": {},
     "output_type": "execute_result"
    },
    {
     "data": {
      "image/png": "[encoded data removed]",
      "text/plain": [
       "<Figure size 432x288 with 1 Axes>"
      ]
     },
     "metadata": {
      "needs_background": "light"
     },
     "output_type": "display_data"
    }
   ],
   "source": [
    "rho0 = ic(x=x, xL=xL, rho_L=rho_L)\n",
    "pyplot.figure()\n",
    "pyplot.plot(x, rho0)\n",
    "pyplot.xlabel('distance in km')\n",
    "pyplot.ylabel('cars/km')\n",
    "pyplot.grid()\n",
    "pyplot.title('Initial Car Density for Part A')"
   ]
  },
  {
   "cell_type": "code",
   "execution_count": 30,
   "metadata": {},
   "outputs": [],
   "source": [
    "def velocity(rho, u_max, rho_max):\n",
    "    u = u_max * (1 - rho / rho_max)\n",
    "    return u"
   ]
  },
  {
   "cell_type": "code",
   "execution_count": 31,
   "metadata": {},
   "outputs": [],
   "source": [
    "def flux(rho, u_max, rho_max):\n",
    "    F = rho * velocity(rho, u_max, rho_max)\n",
    "    return F"
   ]
  },
  {
   "cell_type": "code",
   "execution_count": 32,
   "metadata": {},
   "outputs": [],
   "source": [
    "def ftbs(rho_max, u_max, rho0, dt, dx, nt):\n",
    "    rho_hist = [rho0.copy()]\n",
    "    rho = rho0.copy()\n",
    "    for n in range(nt):\n",
    "        F = flux(rho, u_max, rho_max)\n",
    "        \n",
    "        rho[1:] = rho[1:] - dt/dx * (F[1:] - F[:-1])\n",
    "            \n",
    "        rho_hist.append(rho.copy())\n",
    "    \n",
    "    return rho_hist"
   ]
  },
  {
   "cell_type": "code",
   "execution_count": 33,
   "metadata": {},
   "outputs": [],
   "source": [
    "rho_hist = ftbs(rho_max, u_max, rho0, dt, dx, nt)"
   ]
  },
  {
   "cell_type": "code",
   "execution_count": 34,
   "metadata": {},
   "outputs": [
    {
     "data": {
      "text/plain": [
       "(81,)"
      ]
     },
     "execution_count": 34,
     "metadata": {},
     "output_type": "execute_result"
    }
   ],
   "source": [
    "np.shape(rho_hist[-1])"
   ]
  },
  {
   "cell_type": "code",
   "execution_count": 35,
   "metadata": {},
   "outputs": [],
   "source": [
    "def plot(n, x, rho_hist):\n",
    "    pyplot.figure()\n",
    "    pyplot.title('Time step: {}'.format(n))\n",
    "    pyplot.xlabel('Distance on Road')\n",
    "    pyplot.ylabel('Traffic Density')\n",
    "    pyplot.plot(x, rho_hist[n])\n",
    "    pyplot.xlim(x[0], x[-1])\n",
    "    pyplot.ylim(-0.5, 11)\n",
    "    pyplot.grid()\n",
    "    pyplot.show()"
   ]
  },
  {
   "cell_type": "code",
   "execution_count": 36,
   "metadata": {},
   "outputs": [
    {
     "data": {
      "image/png": "[encoded data removed]",
      "text/plain": [
       "<Figure size 432x288 with 1 Axes>"
      ]
     },
     "metadata": {
      "needs_background": "light"
     },
     "output_type": "display_data"
    }
   ],
   "source": [
    "plot(nt, x, rho_hist)"
   ]
  },
  {
   "cell_type": "code",
   "execution_count": 37,
   "metadata": {},
   "outputs": [],
   "source": [
    "import ipywidgets"
   ]
  },
  {
   "cell_type": "code",
   "execution_count": 38,
   "metadata": {},
   "outputs": [],
   "source": [
    "def interactive_plot(x, rho_hist):\n",
    "    nt = len(rho_hist) - 1\n",
    "    nt_slider = ipywidgets.IntSlider(value=0, min=0, max=nt, step=1, description='Time Step')\n",
    "    w = ipywidgets.interactive(plot, n=nt_slider, x=ipywidgets.fixed(x), rho_hist=ipywidgets.fixed(rho_hist))\n",
    "    return w"
   ]
  },
  {
   "cell_type": "code",
   "execution_count": 39,
   "metadata": {},
   "outputs": [
    {
     "data": {
      "application/vnd.jupyter.widget-view+json": {
       "model_id": "2e436f1780b4425283d45e0203ed1ba3",
       "version_major": 2,
       "version_minor": 0
      },
      "text/plain": [
       "interactive(children=(IntSlider(value=0, description='Time Step', max=30), Output()), _dom_classes=('widget-in…"
      ]
     },
     "metadata": {},
     "output_type": "display_data"
    }
   ],
   "source": [
    "interactive_plot(x, rho_hist)"
   ]
  },
  {
   "cell_type": "code",
   "execution_count": null,
   "metadata": {},
   "outputs": [],
   "source": []
  }
 ],
 "metadata": {
  "kernelspec": {
   "display_name": "Python 3",
   "language": "python",
   "name": "python3"
  },
  "language_info": {
   "codemirror_mode": {
    "name": "ipython",
    "version": 3
   },
   "file_extension": ".py",
   "mimetype": "text/x-python",
   "name": "python",
   "nbconvert_exporter": "python",
   "pygments_lexer": "ipython3",
   "version": "3.7.3"
  }
 },
 "nbformat": 4,
 "nbformat_minor": 2
}
