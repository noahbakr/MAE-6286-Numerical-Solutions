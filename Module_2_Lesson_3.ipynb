{
 "cells": [
  {
   "cell_type": "markdown",
   "metadata": {},
   "source": [
    "## SOLVING THE 1D DIFFUSION EQUATION WITH PLOT ANIMATION"
   ]
  },
  {
   "cell_type": "code",
   "execution_count": 1,
   "metadata": {},
   "outputs": [],
   "source": [
    "import numpy\n",
    "from matplotlib import pyplot\n",
    "%matplotlib inline"
   ]
  },
  {
   "cell_type": "code",
   "execution_count": 90,
   "metadata": {},
   "outputs": [],
   "source": [
    "\n",
    "nx = 41  \n",
    "L = 2.0  \n",
    "dx = L / (nx - 1)  \n",
    "nu = 0.3  \n",
    "sigma = 0.2\n",
    "dt = sigma * dx**2 / nu  \n",
    "nt = 20  \n",
    "\n",
    "x = numpy.linspace(0.0, L, num=nx)\n",
    "\n",
    "u0 = numpy.ones(nx)\n",
    "mask = numpy.where((x >= 0.5) & (x <= 1.0))\n",
    "u0[mask] = 2.0"
   ]
  },
  {
   "cell_type": "code",
   "execution_count": 91,
   "metadata": {},
   "outputs": [],
   "source": [
    "\n",
    "u = u0.copy()\n",
    "for n in range(nt):\n",
    "    un = u.copy()\n",
    "    for i in range(1, nx - 1):\n",
    "        u[i] = un[i] + sigma * (un[ i - 1] - 2 * un[i] + un [i + 1])\n",
    "#    u[0] = 1.0\n",
    "#    u[-1] = 1.0\n",
    "\n",
    "u_naive = u"
   ]
  },
  {
   "cell_type": "code",
   "execution_count": 92,
   "metadata": {},
   "outputs": [
    {
     "data": {
      "text/plain": [
       "True"
      ]
     },
     "execution_count": 92,
     "metadata": {},
     "output_type": "execute_result"
    }
   ],
   "source": [
    "u = u0.copy()\n",
    "for n in range(nt):\n",
    "    un = u.copy()\n",
    "    u[1:-1] = un[1:-1] + sigma * (un[:-2] - 2 * un[1:-1] + un[2:])\n",
    "\n",
    "numpy.allclose(u_naive, u)"
   ]
  },
  {
   "cell_type": "code",
   "execution_count": 93,
   "metadata": {},
   "outputs": [],
   "source": [
    "def diffusion(u0, sigma = 0.5, nt=20):\n",
    "    u_hist = [u0.copy()]\n",
    "    u = u0.copy()\n",
    "    for n in range(nt):\n",
    "        un = u.copy()\n",
    "        u[1:-1] = un[1:-1] + sigma * (un[:-2] - 2 * un[1:-1] + un[2:])\n",
    "        u_hist.append(u.copy())\n",
    "        \n",
    "    return u_hist"
   ]
  },
  {
   "cell_type": "code",
   "execution_count": 94,
   "metadata": {},
   "outputs": [],
   "source": [
    "u_hist = diffusion(u0, sigma = sigma, nt = nt)"
   ]
  },
  {
   "cell_type": "code",
   "execution_count": 95,
   "metadata": {},
   "outputs": [
    {
     "data": {
      "text/plain": [
       "21"
      ]
     },
     "execution_count": 95,
     "metadata": {},
     "output_type": "execute_result"
    }
   ],
   "source": [
    "len(u_hist)"
   ]
  },
  {
   "cell_type": "code",
   "execution_count": 96,
   "metadata": {},
   "outputs": [],
   "source": [
    "def plot_solution(n, u_hist, x):\n",
    "    pyplot.figure(figsize=(6.0, 4.0))\n",
    "    pyplot.xlabel('x')\n",
    "    pyplot.ylabel('u')\n",
    "    pyplot.grid()\n",
    "    pyplot.plot(x, u_hist[0], label='Initial', color='C4', linestyle='--', linewidth=2)\n",
    "    pyplot.plot(x, u_hist[n], label='nt = {}'.format(nt), color='C1', linestyle='-', linewidth=2)\n",
    "    pyplot.legend(loc='upper right')\n",
    "    pyplot.xlim(0.0, L)\n",
    "    pyplot.ylim(0.5, 2.5)\n",
    "    pyplot.show()"
   ]
  },
  {
   "cell_type": "code",
   "execution_count": 97,
   "metadata": {},
   "outputs": [
    {
     "data": {
      "image/png": "[encoded data removed]",
      "text/plain": [
       "<Figure size 432x288 with 1 Axes>"
      ]
     },
     "metadata": {
      "needs_background": "light"
     },
     "output_type": "display_data"
    }
   ],
   "source": [
    "plot_solution(0, u_hist, x)"
   ]
  },
  {
   "cell_type": "code",
   "execution_count": 98,
   "metadata": {},
   "outputs": [
    {
     "data": {
      "image/png": "[encoded data removed]",
      "text/plain": [
       "<Figure size 432x288 with 1 Axes>"
      ]
     },
     "metadata": {
      "needs_background": "light"
     },
     "output_type": "display_data"
    }
   ],
   "source": [
    "plot_solution(-1, u_hist, x)"
   ]
  },
  {
   "cell_type": "markdown",
   "metadata": {},
   "source": [
    "## ANIMATIONS WITH PYTHON PLOTS"
   ]
  },
  {
   "cell_type": "code",
   "execution_count": 99,
   "metadata": {},
   "outputs": [],
   "source": [
    "import ipywidgets"
   ]
  },
  {
   "cell_type": "code",
   "execution_count": 100,
   "metadata": {},
   "outputs": [],
   "source": [
    "nt_slider = ipywidgets.IntSlider(value=0, min=0, max=nt, step=1, description='Time Step')\n",
    "w = ipywidgets.interactive(plot_solution, n=nt_slider, u_hist=ipywidgets.fixed(u_hist), x = ipywidgets.fixed(x))"
   ]
  },
  {
   "cell_type": "code",
   "execution_count": 102,
   "metadata": {},
   "outputs": [
    {
     "data": {
      "application/vnd.jupyter.widget-view+json": {
       "model_id": "36152badcdd64ab4a5d9b6c10d7f4016",
       "version_major": 2,
       "version_minor": 0
      },
      "text/plain": [
       "interactive(children=(IntSlider(value=20, description='Time Step', max=20), Output(outputs=({'output_type': 'd…"
      ]
     },
     "metadata": {},
     "output_type": "display_data"
    }
   ],
   "source": [
    "display(w)"
   ]
  },
  {
   "cell_type": "code",
   "execution_count": 103,
   "metadata": {},
   "outputs": [],
   "source": [
    "def update_plot(n, u_hist):\n",
    "    \n",
    "    fig.suptitle('Time step {:0>2}'.format(n))\n",
    "    line.set_ydata(u_hist[n])"
   ]
  },
  {
   "cell_type": "code",
   "execution_count": 104,
   "metadata": {},
   "outputs": [],
   "source": [
    "anim = animation.FuncAnimation(fig, update_plot, frames=nt, fargs=(u_hist,), interval=100)"
   ]
  },
  {
   "cell_type": "code",
   "execution_count": 105,
   "metadata": {},
   "outputs": [
    {
     "data": {
      "text/html": [
       "<video width=\"432\" height=\"288\" controls autoplay loop>\n",
       "  <source type=\"video/mp4\" src=\"data:video/mp4;base64,AAAAHGZ0eXBNNFYgAAACAGlzb21pc28yYXZjMQAAAAhmcmVlAABFPG1kYXQAAAKuBgX//6rcRem9\n",
       "5tlIt5Ys2CDZI+7veDI2NCAtIGNvcmUgMTUyIHIyODU0IGU5YTU5MDMgLSBILjI2NC9NUEVHLTQg\n",
       "QVZDIGNvZGVjIC0gQ29weWxlZnQgMjAwMy0yMDE3IC0gaHR0cDovL3d3dy52aWRlb2xhbi5vcmcv\n",
       "eDI2NC5odG1sIC0gb3B0aW9uczogY2FiYWM9MSByZWY9MyBkZWJsb2NrPTE6MDowIGFuYWx5c2U9\n",
       "MHgzOjB4MTEzIG1lPWhleCBzdWJtZT03IHBzeT0xIHBzeV9yZD0xLjAwOjAuMDAgbWl4ZWRfcmVm\n",
       "PTEgbWVfcmFuZ2U9MTYgY2hyb21hX21lPTEgdHJlbGxpcz0xIDh4OGRjdD0xIGNxbT0wIGRlYWR6\n",
       "b25lPTIxLDExIGZhc3RfcHNraXA9MSBjaHJvbWFfcXBfb2Zmc2V0PS0yIHRocmVhZHM9MyBsb29r\n",
       "YWhlYWRfdGhyZWFkcz0xIHNsaWNlZF90aHJlYWRzPTAgbnI9MCBkZWNpbWF0ZT0xIGludGVybGFj\n",
       "ZWQ9MCBibHVyYXlfY29tcGF0PTAgY29uc3RyYWluZWRfaW50cmE9MCBiZnJhbWVzPTMgYl9weXJh\n",
       "bWlkPTIgYl9hZGFwdD0xIGJfYmlhcz0wIGRpcmVjdD0xIHdlaWdodGI9MSBvcGVuX2dvcD0wIHdl\n",
       "aWdodHA9MiBrZXlpbnQ9MjUwIGtleWludF9taW49MTAgc2NlbmVjdXQ9NDAgaW50cmFfcmVmcmVz\n",
       "aD0wIHJjX2xvb2thaGVhZD00MCByYz1jcmYgbWJ0cmVlPTEgY3JmPTIzLjAgcWNvbXA9MC42MCBx\n",
       "cG1pbj0wIHFwbWF4PTY5IHFwc3RlcD00IGlwX3JhdGlvPTEuNDAgYXE9MToxLjAwAIAAABkpZYiE\n",
       "AD///vdonwKbWj8T+PDy/cVANld6atJ/gqHsODmjEyyvCVjV/RjD5/vIuRSEu9oudzo/xCkJdtzE\n",
       "Bh46var9bC0tlK3KxZ90T0Y/7I5OF6rpkdHGnQUfuyI+ENDA6lkkk2588sm/mGTJWQLisQukTkGB\n",
       "MlPbKTfFD1mQWIdbJw7BLJz83+sK+vCxVrhUNx6s2owhGOMhM/FHRAKaOTbg5bxy8fRp9eGEbLLX\n",
       "ggpv2l6T/iSwDiWMHmz7a/JzSKM/ROa2NLlW6Y1U/NzejQWrVatyQnHiM9FPsSlT9yNkYNxWvthB\n",
       "Y46cVFKaGgcQehQN143SSAz9iTHFoIyW6xSCCmwsGqFOyVMSrBE3FPoh7KzZgvZBsd1uIbQgb/Jm\n",
       "EgLpnLy8xgFBwnLRA0DRG3486rTTK92Q3Zb5Kgg3aLR4HklnFuDgi1NCrvomRtUnUOvVfRgtkPRL\n",
       "JxXz2UQIKXiqALc0ka5aelzdVuJ4toPg65s59LB8aj/59h+8hQg2Euq41YVZKft/Fz+GpEFogL0/\n",
       "R7nE9MnK9o5TrgrqD6GjKRYFb5rOfg59OmHBYcbAJuaGoQ3onW/E4QmTK/OZLPoAccQyFcxoufvW\n",
       "ZeVGx0sGixMZtM5zOseHB4tmoCDYw8OCCePtMnMwfzjUSsfzl70sY7YwhOaS1ylLIbt8BF/m0wcB\n",
       "MIHUfIMlhyw+bpP8SnxSjZgbm//2uGCVG9LJDrSdDbRvW2jyykfuK2Ybtc6RS1DcjC1/7+8rjaSe\n",
       "v2M2vcdoSWZGjix2Kv9pAYdxZOxNsoJQNy1Zd93FEQJ9Jze+TVLgpccftxOVLUsY/zG2FZxu0/2A\n",
       "7p0j0CTZK2Cs/ZbgcmBbs96Im1gSsoOu6nV4LRHmNbJJtqjrJ/e5vm1JMbZ7gkKRpGvMefNmsDx9\n",
       "E2n8iBpu83Jk9iS4TLfBWXzbWT9BIYyQBsvaWhl0sYE+wvW/Dl7LJr30YovVHVEq1vFJcbJEOCn+\n",
       "dKK0T64dCjfFVsZ8GwXs9igqays6nu3eZu+dnn/fdXcEhtyRneZoV6QYxuoI4RfnvdAU6yOeI9e/\n",
       "wdv5jsbsrs62heyNyEOpJS6r2L9awAJhLmO1+2hgF4sRkeUwMPXz9Zo81pB1ReMu1MePz/YIJxkW\n",
       "d94mYy85xwyPAoCRi4BN9RLzn1/6xYgO5IRV9AMiDfwYEbepAaYk8TFPze2qTRE9ugp67IVXF8ym\n",
       "Q1otJQY0AmxrCbz40g/Rlde/wmM5IsKPXpBFRxDpSOgu1sRmMrDIXylFhpWvSLWjjSAJ3wDY8Fmq\n",
       "H3pvDEtZaiL71gFhwHm58Syed0CYYRLlbE0Jp200ivJH1ktbJByYafEal60htAOhWNQLM5egyCz7\n",
       "Uw3gwatHpegOANazm+IfG8qb2P0dSpR0klQFAvHQX/7p7crUXRSqiAtB2CM5xhGTpdRf8So1mtzl\n",
       "f8NMe4z4gqA+rmRRTnoUcDFHsQn9hapziZC8KdH3voXpTZNOviyLbMVDyfryMmy/fhSUd6O8LdrX\n",
       "b/jUkolVlNncY6E9NMScVC3XKC2HZmoWAEzwo9V3iPmFcFJWS1ytmN6+emGXyV5iYb2oeGJ6MgFH\n",
       "m6GWnN9AWFk/M/7eg0IF94QJXPLQeMwQVD3RUXl3edO01xShcI1n2nB0b9BLlMkaQXh0QRvXtJAf\n",
       "3GjlJf/R3PuyoLmGgHxJzd2wxT4U5cLVZlyDsLRHgQIuJEOva2jVeLkuUCE4ieyM0+V4oPFZrzb5\n",
       "dnjVh4kPwY7NuNXPvAwwGLuqHmPV7BMP5/lMoNC5TiXvNTsKvkcSF9PaPUrjrio+8ibVfP9nyOjK\n",
       "yfrHUXE9Ahui0HZub/Ao5Yb0aeQOWZSqcApPA+V2o+d0N5eZJpzdTosOXZMhTX/x5i8ydBAFrw/i\n",
       "//nRImi2uoT8YzLjAd9RngO4/cflSugbNDeTWi7ByA4OMIdMRir0cmUuwcNoiosmn/po84b/Lys6\n",
       "q30fyyH87G5vRW8Ni9fn/Dko+i2NXJlQEtTqADAT/knW1945kFeu7Ub1iQpH/E3GSTOfYND4HOXf\n",
       "EwNV0YbiHvnVWNAyX8G0K0sEAWjES666HglM0eOzZTQ9FleAaDs1GOFGjwW05IRuYtgkDk0XuieZ\n",
       "mVZuXR0NPRp6/DtdwQCvrGqAdwSZOeH+L/MGinBWSkaDbXzsbzsG5N8mETrs39q3dkCjq6KoQWu/\n",
       "hkYhchOKBxGcIsExV/hSCQPEq045AOzgm5AqGP6IouPp1K6UcfvzUy1PwqEpg2G9A+eINKks8WZ7\n",
       "Z2s9mKzItevbp8BdgN/B4kY4i9uuN9suTgaIuy9mupMsooarx1wJ5bCuqYgAABd1taBBoRk8mtaC\n",
       "ejWkG+roOfAHMrsxdUV4rqL3dLNvCsCOPrL3CwUHz6Ld/Lx1oNe6S9p3We2e41Cs2XQafJ/6nzQG\n",
       "aN4UBkKzF8/MVWn6EeJ82P4EkKUeCjLtzu4nVC+Mcv62GGY2uaBSL8wcAenjxlnhxVEuwJWF8Qim\n",
       "6bhuN04Oc/TsmV1LnqZTl29/eeiQDYrL7ajuJuU7k8YFgVXdz1aQicqNcNa31KYbbps2HsjGBh1C\n",
       "VuoDXFIcMNj0IdmJ1Vw4b6fNJ2I/7IPyt9PcFtgXbU3ZEfLTHpW8P9kZdY8r3DZL/m+7wJP2ewIV\n",
       "JNwqm57sIzvVcUr+4/s/TEhDvZJfXK6KVrlumoOyoeiM0e9mwBKIL+U2047curc18UBq4s1RHjbp\n",
       "xOQe7A9Hw/thdCCEXxtZGSuxlvHZeB/SlD7U8OCt3vlDKTczqMEUDSfWPWYAoHIiQ9mAWh0ECJ3F\n",
       "u/drjNvPYcBPD3+Zo52SOWt8g8WQAyWYKpcgtofoWC6n1i4y+XipIR1nS1mF6TfSQX4IKc/wqlsT\n",
       "XUPlvd6/Xf5UIjEV7Bpw3hakZUtRvSOEemCVLWtihNAUn0pEINw4QaD7ez/kHQ0QJAPtc0FDYlPd\n",
       "XUwFEpxSB4gXg2DQwmmmjsdksvZkQv6LuEE5rYXE8YDMVrTHJvU4k4TpEOc3mRFG9hx+IA6VYYPR\n",
       "1H1NJls33YZyxAo+elZCqKC/MF2mPjvpfR9uG/k7fVRYNE/N35FZt/Li13oTesc7ku/NjKxDYtHg\n",
       "c+N97ySeOr7cb1gwhj4j9tsEzsAyn50aRYtdjSh2eAyrOaAfZIeb48Km9VfFeog5l6rCHOQBUVD6\n",
       "JNyQDalzLaej3NWnYFrrlmouM0c8rwmlJQ/ftmEOEGEg38he6qAkDqxoORjhHV8NcMAiA6wfM5A1\n",
       "qDOVtFSteO/Q9E3X9J4Zv/crUkY8W/ZtJgAdgvC9LK4v+OMrbSeuAjKbrZavUWyQoKvM614U7UHb\n",
       "1b7aSdGLTXgg5zlxq6lGVYrJdhhDVlGNDC/+sgq07oIXKc5HryGur4IbE3/ge9Q/XSfKNeyQLWmw\n",
       "EzDQz6sviQtlaFWLAuIVeiK6ObdgyGG1WC8pbv/hSBKUPAPvfrNDCJVpGQz21VNQHi9f//RE5PQA\n",
       "As6XbrHBiXWWM/Ey4vYqxguv9wgEemWhgF+yHXw3Nv1WSU3QcLF49j7OwUqcIWw0b8niBcfqL012\n",
       "vIootoBBrB5JkmGAvfe2HeMyGY2NAFi2vSvL4yVS9+jo6I8Uy6OOcjsk1zd0eDXMYRqZz32x/sHx\n",
       "k80beZUp0dELOkAP5VodJzXGR26afyIeixzLMQbI++57BUSBgL13dFpZVS06Rdc01MmuWrJBZRMF\n",
       "RtK2yIy3IVMoSwkzeDHDtM/O/JoQq81JgDUAsasXCxhQ+fuvOo5gzqfsVfl9Fcec2168GCqk31Ag\n",
       "h68oNyDjAa+IWlUvvrzic/lOonIiD03a3T7OpVgKIsiyQsBWInXB2/qrlnWd/DH8npAc2e1mXLMx\n",
       "wsO37T4vUcAGuL7u9321aYNzkHJ3PFreZxhB/9jkPO1bEilA3+ZII79gWJnob1M31OGT/8s/xjJg\n",
       "+O4dHwIzOmKvmJ2P152n0blidqJ01xhck2+ckUvs0Cp/nIWHHfFT07uvQKV0jRAEeNnVi2i2Qcgs\n",
       "yA9N9LBOugOD0gH6DSvJJW+RoEGV6mENQB50U5SHdN7ZGF/AgkeJvz/XZ2Z6xJjtyjyZZYI4CkQM\n",
       "l0A35VRSb3mr8KMAT16ak/Q4MASIEE7wCOzDUBjONVLwf9aFwDBXDklY23oOuucrQ6H1E+zIlgja\n",
       "hOQOkuWXrWb5H9hy0AN4jv0oOjyB1w/yaS7UXMSAD/n+UNIlgE9xKmDL/gFccZAhSLmbR4cuKIJb\n",
       "UgF2+0wRpvRsHG9Qr7EiPxP57gvfyoROBTxID+jaFmQ1XGncD3j5nX8ibE0FX1g/iW+xWX2s+Ilz\n",
       "hr+j/ti7n01KOt648OLhRCdBjigLuW4WB/TTUbW5l24XIyxsjcZ6Lgy3sBpYs/67H5Y3imBDdT5H\n",
       "xVqotV84awJLQFZSvuweUw/tN9P9IHjCvvMC9BfnMndi3BO9glC5mWaSbed86UEXiiRGlWPpOWrr\n",
       "6uacM6tZtzeNhrjmInmhMyZr5JyQr8Gxr2Qgs61e3XMZUXRDql8Yfm4cMQsHicywGc2jMlQBeVee\n",
       "TDH2/eyxoqRlLnXRweMHg48hvkPRJWd/7+5z7dySDmb0/gm2blC9ucf1fx7A0Sqs9qjO/mfsWPEO\n",
       "DfqR3G7K5MNM7x5sXhjvzDeX+FT3MDWz+I3snWLfVKU8kRUf4tJvvsPScE2XHol5bHlMDogQgFtt\n",
       "0sDpAgW7UxiK/ZQuKGMfayn/wMnjvo/t0TvD38p8Vdvvn9SeotJZto1eOcxT5zwaJ3v3wm3/dKSz\n",
       "IN1+mw8VU1GGKMLmSv/UOf67eA4qrqacKfrPMQaPCxFMP/K6YDc9UIR+47rbOrTNsQ2htSSIixrT\n",
       "t5YD7akrVuQPX++iL5n8Rf2SfVsPJYCtKCCniaXACIx4Uqk6taD3zBj4SgHDJWUbBTKszbxKSwCJ\n",
       "OGZ+2dRjHeKrCTa1mQkUxOzgQHmTGerS6TjTIRLZkjN218VS8sZb9/0I0JXUNVmKFP+oah62ZvD7\n",
       "fB9b2N8F4psB+hg7z1NftfPZzYs9ry3o2HyBe8KIcg3eSMpmED0GvbrCZ+2hYjtJg9fkdcI+btI2\n",
       "XzDqUCnRVs5d0yH/UXh14E72mbH43o3FECuUnKMUOdkP3eNtNeDwhaoKfqslxFroy9Nqgraqbqd4\n",
       "dJAxpeBfTq1V7QNMwpO95MYnlOC+Rv9jrHMbqjbZTXfEcTHEtXaij32VTbRMVn/os8jSKzP6jVV3\n",
       "IvBeeW6eFY9bsGZB+gs995adaWWEKRZgH38cdRpz8cN7FP6WtygaQOXvhUZeWfz8xMDWzwdRinsJ\n",
       "Q3HgGdeADUamfOcA/FLw+fCRpohMr0wUi7JkbTGoRz7sdTCwM9xzZix6qxSyCwXxLSi/a0r5kq4k\n",
       "Z3vcn/zw5/REd8UcDcxzLKBBbhh5Fo4z1FN4CLCaZj9uPr8xoZYYzGzK4YNuKOHNR7QG1hK8yEmx\n",
       "kJxOgXB7l61KAbsoBG+4gToQC0EEz1vv7Qz93X//5GF7oq5mO9IKqqw5Gvz5ClV7Blq3kUP04RK/\n",
       "gRM3vi1C/lfBGPSsTfD+2vsv6w2+L/+QEdFJAjYqRTkUnDr701MMj0MfyclMJaDD/fs22BizBNgl\n",
       "gS1tAphOeyWTTVXCcY+LRF/BmAGhccZVOhCZE01iPcfIQs4B+dDhEBjmPA0oll3l2GfRsBVgf97e\n",
       "7BBYnA58w08YfES6iW4NthaplK6b3yvr0tBigEx/3eTV5sRsk29YAAH6GoWJ5aCjpgbw9N5nYmaW\n",
       "ZYYgYDyAnK6HL5L6XFtXk+/9rJoe5hfqB/l4ujukAj25ckjQUpYoDKrWhPFa2+l+gxZlOua7WPaf\n",
       "zn5YQfiXkwQ+dYzjLKUL1txzksjllMLeWrLWU9o5+4iLmwrDOeyYDsKGPa3dmiUunOQ8OT6e/NLH\n",
       "rWMdnKf/pnlGDun28tRAb8CFCTepCPMYht0/XENRUbpdgLhEaHmlgg19KoX7ZPdjdjfBpxYJnWcX\n",
       "qoyyXhevYtSxut6iNsSUpFspaw6QLPFF42dvy9KZtcuSpxlZZr6x9BI0KLYEwYKwHD9h13SCEv5M\n",
       "LqCN8JjziopAjkh1jTY3DjKAE3mcWIhcaCv884dNUZrx7/yG7DjGouUcguVZJFLeWEtkz0/ruk7I\n",
       "GHiBCr9NbJQdgeEfQ5gjqWhv1aCV6cE+8iEqbWWkZUQgkijulXcQ7rdQCWLhIVr/46ViMmFCy8zY\n",
       "M5TLISURNwsZ+CJ8ipGFBrTwAd0tz1a+ym39CqSXaSskd8yCjR+gcyu9F4z/difJIXTUG4ovv8qX\n",
       "jQL2wjoPnDteQB6XDXBSF7moIQXRPlSA6OoFkL/LR7Ru3102RUz2C/mh/IJiKqjl3o1BR4e/7F4Y\n",
       "Z8Vh8+R4O2gSXsnDmTSexR82u/Z74+xmbuO33iMhd5v1ZToFJwGfIQbioB0dYvZa2DDtkpuKAXzJ\n",
       "IOihiUciU/pRloeMCvFQuPJeZuPtQGhL5eFf0HsoZLSNySmNNMNdfztTeLHio967Qs1HctqdwN5M\n",
       "dtD47cCpWbJn7emsCxvRXCY4yqNfVGAyAARzhVL1zhDmhkZPYxYKstvnQGCAyw+WayRMXgV46lCf\n",
       "/n+bjbD2vab95oOG2KJN2GZux91BwLp9cUWZHsIxqk8iiqnXGaWHR56NAMW1MMxZw49fCSgg7U3R\n",
       "R3Qz6X5v07p/WckLjnX143m8xfzwMdgippPOvFYhKtGXDwlLy6VtXYAnPZgv/QLphPI8FxPueiYr\n",
       "odRK67ALDIE/tRmPkI+PGoXul32QteVTvn/fBpY7Vi+bAu8L3cRWXfXmNSSzoU1AQCdLsP1sN6mE\n",
       "dc8VfIqt60/Kcahwn7gjwmDZTTti8IH/MpHxr6MWTnskIKPnksA6ADBg5zuXsGpYrEwn7C23NBIN\n",
       "pIDslcvHGVr9K0jsVX+faHLwAAk8GZV2vVGGpjT4EFHl34z+9cOsQVTaiFQ+W1RE6HzUu9Rlcj7W\n",
       "MR68tTiTYeLSwRO3VoC2rRHfglQNVmdHXhcXWtphvoLzOex4Xi6Rpg6dBifMpxBOxH4u4aZuWJWH\n",
       "FFAueoCCudw+4E6tmqwy0894P1gbg6pa+7JXotrwmgb5Gc/OVJ0lgZr5dggedAZDOfpuoHrajm2J\n",
       "pTI5ie9sV7FzF4ZAxtUNiHy/CIjp5wmEn84iv70uqtu7q42sjBVQsVMSp2qfIibZrYqAM6cfbXHx\n",
       "tHyHTAhto9R7HfcYmn7X8N3r/1U08O6S0/m8oRX/o1I0kjjlTr2RSCmQPHzaSaLXWR4wQ9lqK0Zj\n",
       "5FQIMlXEYNJx1jqcm6jhQKcCQOsNxbZHQC64h8CyJMKHrQfzOqUje5NpYQ+QmUT2jS0axZ9c+/+G\n",
       "iWut2R2kF5M/aJaX93M7PE7Mq4iKrl72S6FkQkgi0qkBaEhEgXQynLR0QkFWgYaMC5n9deeQvXO0\n",
       "EsZFpnxnf66OwiBjCQ1teb7Eim9V1e3TNMI4WZi4q9rFtfYTHnJeXGooRVUTAdmQbUB4JRtvVc6T\n",
       "dZKHbsEqBAA1GH/GKWde8UQyfdCSZ8vk319hGZMdRHK1onzEZ4N/Sbo875PLrtBpQT7A7U65Jj4j\n",
       "XqTyEJX/8KiXVRfMUqd++dFZMVj1sFPgRbiXfvL17EStOu+VgZSFP0xCl5NJO7hf9m81vaaVSFBN\n",
       "QdgbyH9V72J74dxx+Tfiz7uX9QeEXA2i1PWqWcc7V7j8jrS3QlSaNHoto00vMsiFcD0r6fs/85FH\n",
       "BgQcjIXvK4zsejIaCD94KKZQBBmeYkRQyS/qQx4BFZ6ac369zVKpIntWFWH8ev//PbsU/J/bWK7v\n",
       "U1WXs8zzJBIUJXArRw8VfA4XTtkdTsBPaoAKeHiGUEWc1iLhjRfOOhb2FkidqWgCeJrnp4KmWSur\n",
       "kDfnRnFbhM0kxy66vHN1UlEEgHt+mWgMH2RWrUjyvXY1i38L6E/pwNZK8gB3aO4EjZzESEiQpQOb\n",
       "T3ZjDXSkeDkDzr4AQoie9gOdtYPMwWMM1x4mqyHRw0HKugIC0kGxFD/VMf9AcFgC/YBPBspBX/pA\n",
       "vz68Bn+HmVeAq2+oDFrew8vbywlVovq54DB5h8bw9SrftFYzHJbM/OQzEz0BdfW+pLy95AyI4z4C\n",
       "hde8zWkaTA/8nH/B7TwqstEhm8Vm0KbQ0QK2uqYozjTE019iEl4ln8+np/Yb9a9OvBmZS/KZfW4h\n",
       "UMTCGHSJHww7UbzfBw2TsfyCARQUDcaT2iFvplusfHrffspLDIV/YsxjbjDOs3P8v+1wTEOXXo4p\n",
       "Jsmlh3AdbXZ+OyQ3P8rRLADUfHpV0Tka4VGOmPgYJg4KAelYapWXmZQsFJwHWll7XLpLIGt8fdYy\n",
       "GXw/B/kNVM/UzXPoKawx70Yg4bRHCNE5yGQhEW2OUrdnMSQqYIr0q6evYLTvG8ZlVcHy4rO4eN3k\n",
       "H44BIhuCIYNSGfMxFEfwiXUKhgfJg67cPS5XXe1atIcCk+y87wxKha6yPAoC+WjSr1nJIBSsQJbi\n",
       "8diEXmBz88VYsMfacAGCW6hHxYl5g+iRLhVLbBpQR0pG9ni4C8JNYuNciHTqy/DuKB5ZmD1hAAAF\n",
       "VUGaIWxBD/6qiFx8AALBSy/c2GP90khzvSxTh8ex8ifRGBuBrTDaSiCvZR1nD9yHoiiDcXrWfgYh\n",
       "/wmH9Oh61xVdBNA6ygrYSbVV2oMTsvUgp7wa5DgfeYA39NOpuHF3Vn6dL0iYTt5X2Y1Jd8L6z8Pd\n",
       "5tuiN/m4WG63yzyDnoTu20H5TMWoqwJVnKt1npoEimxRHJFHpliZv10pwgHvCCvQaycpm5IbN9ZI\n",
       "adNtdIJNBBCKPyKqoJ1ePWtu/dvlhHFIzzUDcHMcPh5XfRhGHvUz/PmOzT9N5VTYrK8eABBqTbe0\n",
       "i2MNtVBnO6it5kRF6QMyWFJdt4xchX3vCDp3AFjIJd4QSvYWUVz3E6nR3JG3U4t+GMakp+FaLZk/\n",
       "Z68udwaRs+TS34pC3qHknI0osi7CAPjujzSe+VUx+awhtl3z9KVzD7PObogTcgRVrYUaIgmspnt0\n",
       "plB75P2n2TkYE5gi4RmArPVtqCs+GZAL8KeKqSVbZDoQb61i2D7HMq3byBSyu+1lGhm7lJgQjbGd\n",
       "FoVnKLE3qEqpN1PWC7twdi719PKyOlYxxKRMGSHpzgoZFCpn7uUbvDnG2RLPe1jUwpbZKl3ZGV6/\n",
       "xAiAr8/PLCzuyR81tJ8/+ygjnadK8bgC6oqTAYdzbJ/YP8Mavmwo1o9pvYn/MFyz91cyaDT10uyI\n",
       "oOMFYV+5ppqSGCO9WOSPZz+NRQOide0U888t3V0Jy2F1PAIQFg+ZRu4pqgbakbfMeojlGCJ4Udpb\n",
       "GkfI0GhX/THEP/roA4ZOSnydg3IAAEGP0OmB180Z4SB3L09HgmlRafcTRk3aQxYNhLhy2O105Xoz\n",
       "SMTTakFrd56kNz2IWYUulTjHnnQpZIBf4jEOITMWWazCXBJghUDHyZ03pzV+blQDJ0l3r8MSRHPO\n",
       "fm/3kbd6oB9O5D3gOr1/hwNGbt+tWaXThFzueSRobZeppZy8wj4D1W2dW8lPA9abmurc4FknTLx0\n",
       "mwu+zL+4d7mXTkKk7bQx5JK10aCH9zi46tmOymD/fx4WOwGbJ5MrRwEGWnjNadSY8UGWZr3w1fwp\n",
       "LFzUoKk/UCdMgOhJuSKt1xJqbfimkoQFi5drQdNScrvta6E7mAkCuZdaGbsfAm8zFDtmY1vguMVm\n",
       "Lr0BSXaLoqb/UMW9ZR0h7zfNkr5zR89lqNGfWTyTCnaY9+AyKYLnng4dxQibXpjhmJVl163fI89v\n",
       "YodTqgcBqD4R5lYE6BKCPKSBzh1ZDYnA1cRLJo2tuBM2gofr6suePq5q/wjumv9TVX7CXIfPTKdH\n",
       "C2fUjsLdzDkOZvLL/PbU5TB9x8oQSKp7IoAp5HepD1QpSHp8UbMQOoCrXV69lMNQnriiHsASYP8d\n",
       "dzWMWKrKNUkEMimQpvPQPZXoCsS2GJW4wLHhZczAGwX+kJjAGNVNVENPVqZ5brrylaHgFnRYdkl0\n",
       "q7ENtgi1MuIUn31jU3ipTIrdA9Lek7GUmwOnYg5VXJIYhJhBVCdDVcmLPX6FUMpQarxb2/UPp/y7\n",
       "+w2jj++EbZvAEP5+rlmuN9cUHXSTBhur3m+Z/CSoqtX2cmTtd982i+Pa3kw6Psh8Sy1Pq2rATCX/\n",
       "oOJHS4uD+I37/c1fMNP+hZjTGH1z3LsE5DOA53BSK67b4eQvzEsrRk7ur1P0VIAvcpRcARJePOnH\n",
       "ynM17RQeC241bxNzGMGF09ikXPohDVGwEfvnNXJkY8or1nafepbEPygZFq68ImKG/svl0cM1AOHF\n",
       "Ktp+w1udiIULrXFF//3WToXzmDbnM2Ax5qJmb2+Q3xnTP4YzGyUHHC8J1DsEJENZ0xvunUda8AAA\n",
       "AxxBmkI8IZMphBD//qpZkRlUABfNoH3TTXweqwS1UxfFYCh59RrEayW14ymyb42HayI+60BorAPH\n",
       "+QCvh1Dh8PC+1orXT6nQl+vGAP8+c6AziAfvI++LZjCeaaC5d9ZH9QOLDj2VTLp0P247eN3FtMxE\n",
       "BkNbxmNB8ymb/Edjb9eFybkp/bh+pqs0u7ezNj1cgnHtXtFDBFFoVThn/SiQrlCtXWoYS4Uw9u7z\n",
       "W9Ey8FV3na11NHoNXcnJdeGI3GPDmv9/f09WyRkBfZScaLPkJcKrvUIPypwOKpfYLm2LKKISRj4M\n",
       "tr0s4V0YBlO4Er1+26T9CtZIuwfFPew/dS0DJWlOCVxCAgiiXH7b2jLoo0u0d+/REZJHn6uB05R/\n",
       "Js+ZHQFiGg9RIWhzlc4eXIPnNxlre18XEfoYagZcb16xQletjXEGtYocEbgJNfOJ1KEwEeLRr4hD\n",
       "Kq5VAOiBZheCydcZoz7rAyMkRrPWSj4PHUW0r6l42us/7zBl21TVQ1niV9ZL0QvV9RL6F6PYEn0M\n",
       "Dv+4Aqh0X7EmgW88xBWBnsT/k0jwodpn/280ld0cqKXj5cc6DDqO3aUayku188I+wlksgYBkmNC7\n",
       "Oj2Esyy7OCTNRNx3hW+tDIcwI+MK1peNSjMJCKVKap6tP1+BoyaKQXWfCtT0N3bGk5Koh76p4KFQ\n",
       "oXnYRHF2SbO+ZV7SN7FwbFX2FebQFQ6vEp5NDKUb5wYdzTFMaR0sNz6n34kUR29roxXPBv6xQSrB\n",
       "+skXC39Vc2NEKGaoQgsaxAZ44N+vG/svWWwakgt0yHaYW8yYq8ncb7G5sjIc4Dp6IXYuVba+/JvH\n",
       "jagD8WrhVyKzRD+8xmpjzbwr5l9tfPoC4p8lVNm2McYz+WtrpRC9nFOFPLsUSvw/5rkPf82FE0Yg\n",
       "ayq2ZqmAAZy2rcJwvR+mCW1O0bjw1X9lwBsmv4Pfl5MTstAuZzcf+mTYuJFTuyNCykavryDJEWQS\n",
       "ykK51DUwJu30KEs0xw0UtPOFms+L7vOlfrpJxDEtZvb7VqjgaoDQCf3IE4aLjFs130f1+nXAggth\n",
       "AAADr0GaZEnhDyZTBTwQ//6qWREGujEsoAHZo+SpHXQ/mikiBo1L/h+NxOfloGuFjrqP8zzVJaxg\n",
       "+HK3otAXEtz0d2wQfclXQf8zUBcaw4DLorZ4JHBWDBRqrD9eX/KEve3KEj5UUl8rPDL18Kwrc6IQ\n",
       "7atnq9s8BH7saCQNFYHOdlTVRz10rSiR5iInqbxQ0zOVWl6UYYUTDHYYEzAy0Mh/WsfH9lRjdsl2\n",
       "6cQdQbCZaQazRscTpKUqaUGhpyD6RC1F5jZ6XzQ8/6HYXw9qznOClJCCaGw/Mo+n35aelCspQuBv\n",
       "DwFVtVHtdZTJbDDUw3y/Xe5Cio6KLif69MHGlBYgIWyAubco3AK2X5pccQ8ivOV2K8cCjdKXbgbG\n",
       "+irDpvMTA4YwCYT/k9isP6S6UGTYjiFp9q3b2BXbHZPgbt7pcvDmB6GufP292RM7smt9JsV35Zcs\n",
       "qJV3GX7QBsfva8ooYXwOPCHWe02i9buiZmzN8LuCTALnGQ/N8aI6z+g2Q9SsXnjo7+Ed4lsezoc3\n",
       "7dE3XtwJStpsfYaEctv1NSq0f7oCErjc1ez06AjdDLCfbC6cAch4OqW+c9KKxzFQnx9aRLF/8bwv\n",
       "tndxPdnACLrZc/mihoZmkyRZnh4HXha8kbp8MfYlwPCCWoR6LNw0r5qDDSxjLCrWAqgVcw01gd3J\n",
       "8IVW2z6CqHg7ZXGLVN2BvgEr70w0GIS3+ZfdkHgmoPcMOK952bBt9m60Y48zBzJqBAWmNfMP4WU4\n",
       "9go5Idt9p2elbODyHk5rQecpSpUYEYVG0OiO5hHxEax5BjR0/KfHC/FuKjbZnn/QWo3dWbjUlrsQ\n",
       "LoQxmsLa8CUMzPIuVjb8I6V2+eMXNxLS1/qL21ALv1R+WIPLuU/kLKyeYmEhppIiUIR+5Z/BS4C8\n",
       "WoCnz9OGl0aTcBYO2OQQlUXqhRDoWDLcyWN0qOO7L7TKPzvwL9O16U+U9kTDUIG1nHiS8hr+EvY7\n",
       "puCMfwnWqwL9x84pzDVS7J5ADqU8xr+ZEUcmgj0KUXXXNHaTucOM/aldP7GRtkNJcQonmHKDhTS0\n",
       "HrjYT/Q55cBhtRINq9lSlbaFX9/ALqzKs49dy2mGVBMV4xBEvuV+YUgzzgo6SC8TsJ3VpGvWQ14X\n",
       "gia0FkqlHfvFQ5G2oC/sr0jlW1+VEX0NWjH+ZdzjWlxalmR6ECgaYFBlwHpGslKygNDYfQXBlWnR\n",
       "WTBfSb80y9kyaXbAppt+vI26Y5hIHmiCFiXS/XdNQ0g6Ia0AAAEcAZ6DakN/CG4chwAgaLTptD/F\n",
       "vD+a8tT9zK3iKmqaZIbd6jrzlWRN7Qpo3vhSeOOi1jprb8sLtw2EVmqXD7h8sDmMXA+DDiT3B//b\n",
       "LP4quUzzbZ68QrRpEsnyldGOGV+ApiCeH2SBUA92igfONELT88Ij+62DT6a5anNgsKymxQmil90z\n",
       "d+CZrjQ6psBj07AJOmg6hHeeRIVbJR5uXmuSTYdyDeVtnfK4wh+g0172KtjOA0/gVu7bcoDUdwIb\n",
       "vSoVPyy8KyLu7UDBQrrdf4b+YZ+OKurabyuoDgPIqDi45GyPYmjxy+yh8g8mGw5/Hw0XbeNUu0h+\n",
       "AOGvdBnrTzPdlslYAIOVI7hHyiITnm2msPuw6Ymxjc7+6dZlxN0AAAMkQZqGSeEPJlMFPD///qmf\n",
       "6hq1YZKjABfSV93u+oWkVEOXmTaO12ac6qmPYjoTjgJswfOc6aV4tJ/sU+WMnX3IMBWVg7iSO3VQ\n",
       "uhuPZR3MER1QZlxutw7YXvuV0KevEvsq+lksgGCtGYOpaTvp596OIW6AS/K/FWR5LVLhs1RLRQyP\n",
       "OoAfwB/hTiUCjvuA3gHBoHo9ndBmdlIN4YQgCJkVLbCTx9sa1ygbALtOB373nskWDn5HBevM23Di\n",
       "PWWUmniVdAnpkp1T+swTZM93vJVrhjownFMSYTbqIx8/Xtp2U+MWjmPLQCbniBS0Nme7786/a2ix\n",
       "bUgK7D/TSZjnYubfJIWUbEd++y/gIv8JZY59Nh0SKUIrd8PQErBuBBB3qCJvhTPsd/c0AVuvqOC2\n",
       "+RkepZakeaAQmwwVZEhDQzdZcNpkTr5Pc3NUS2icjeKCbn6p7R9/uy6CvseNIoFJ/Wfa+doJJn3y\n",
       "0N+RWJKN7l3bsjD/6AOZos2i2d31788vHqVRy+PlpjCYQUAZFgV4dn9tLJAZnaTL/gkWHvHSH+CE\n",
       "QIcWNv+hbCczQ2+17naAnudH7qJSm+n900OHGK7MsDvGfuQt75s0YOUat9Ve2hWTHPe8jWYFfrso\n",
       "pR/TzCAxGHhJsQDoKHDdBkG5nQ8vSyFqzfRUeO082vYiVitO6c7mQmVtpLXsxPS8vCnDUIsTNLCE\n",
       "z0195FWKKrR472Kx+MSwOWXDrF2nDN738ezVQIWz5rNemz6mwleuE6m/S68sWUzKOdnK2vw3Ch3y\n",
       "ANo4geIaAPpbNPLbWOpb4mcCncm/2/PKoo1uwzKP1WUIjjUQHieLIg9d0GJqfjibrVzY5Ka6QXa6\n",
       "6gvqe0DtACebtwSN/h5Oh508nc8Fk1CyxwT9ZbKHR4+XMoL/Uli59r7y8sygrI0CrWJXGN5enFhm\n",
       "aOdm+lIb4jLNKzo16ARCyow81E+hoGP6b7YZo47bVz38mst7B6PjOVaItk9SN0Tuw4es48802Y/Q\n",
       "a61nQFEVRHV2VLRHWGOyIwsCNBM0hXyipzHrDF62zdb8RB1iZXaTYP6P5OCzMUhBAAAA4gGepWpD\n",
       "fwig0AAh+tB+bKzbriNmPaewADs6/yh+JSE259YwKLfpT++XtlMla+CDx8aG+qfMidmHqPwqkJzc\n",
       "TesJQczsWcBsLizQyKphWaCKUqjLUOXUFexxoBBF7wLtCKox13qEDS0uG764hbYjPOsRbs2yVNgV\n",
       "SslVCKpqOt9ZtJTrsxkvRoAUF9/nPmPBXtHTk6AfWhruzjvyRb/IoE/Y0OEgw5ErBmdqEEfeRu15\n",
       "PfcmMdKyMkZ2uRmdV716e5KmLL7GC7x76j5C+q9EYOyvYGh7AW8JqYqYdadxJbA7FJEAAAJSQZqn\n",
       "SeEPJlMCH//+qaBtEO0AEPrhrRy77sCeanPv3yrjrBm62AAzLY1YZl3Rrq1soqYGLnGO1p1KeOBY\n",
       "UB094orlQw7m6l+fP4Ct8m3l8y2UiDAy4YZNZweWgHuiovEgBCnAh+R+2ukFCSwdBwG9L/ChnTS+\n",
       "V7erCX0rtfpke/jiaCMHTv4Vr3Rwi+CAHGErM/1KF5J597jHSuAW+tTIubPALvf0v3FzASLGl1hV\n",
       "kgLXwBZxYPvHq+en3woU9kjwJvFYnyN0xGxcSYb9NffBn8eAf9qbitv2Jn9fTbPST1xG7E5UfeCH\n",
       "+s2vReFEoGElVBlrjwnjwm7Klb8ZymWvkz0zZ2Yh+QRTBKtlDhgskCE5NAYaW8gK0qow7r24H+hz\n",
       "mXtFhe48QhODaIiWTOMXxhhWHCXsv12sKr/cYWcZmu2F4+rtdWRPhqEHgbUc7mZC9C6d3bwS53H6\n",
       "tHp1TX0f2DjgHw7Lyd6K5rGGNfg9MdapD5NRltNjyeJwjvUjpG4/8tHdAFjn1IN4dD+ailUtMpmB\n",
       "8jOvoMw9YdWWN4z0R7P+ZRAP8T11miLMmORwSAS0tlTAXVqvnfUxT/a+tRoMN7T7Zc50tWx73/1K\n",
       "Qw+eksCDAjngH0rQrCLThcqvWr4GylPD6mBS2vTE8PAotv1b4RyWTIofr4qGbxkYdOTpj7mrvq2O\n",
       "H3TVbc0YDWhP2L/003H4Je+h5Y+rrX/Tfq9ox7nnZGoO3JchXn7247HUbWEdZ5sPCywF6bVqWAfh\n",
       "Xdl5sfQBmIokhFEo8J6v0qh41YypAAACa0GayEnhDyZTAh///qmf6htUv/CcADiJTdoY5XQjqdMq\n",
       "HSXbF1oM0egHls7Gyv5BINiY+Nte3gIY86BqhVFhRlEhoDcJ+24zITulw4WicARTC/umnwn0VEyh\n",
       "Ng/g2SsqxybQiXCRIfL5WWoqdVe3JQbnmZGWLz1y++cMWDl1hbgZEeO9i1gUs3+qspubu/U4r7Qc\n",
       "e26I4ORaON4QW6Q5bELENANVryDPsnulKfzek5UHZFPpOl0IS058VSRFh6H1+puNzcvuFAEZFgHo\n",
       "R+e7tZiTfRaMVOR+uzKM1E+tI0+qJmIjM0lWaC/yDUE//37dDLDzMyzlCtHj5ijlMOopF8dfYL16\n",
       "SHbCJ7nwtaPPPVw3V/NfWoHayUdIMPGjI2OGqG9UKfdY5gphQ1oY92eImyDpsOjKOWt5dJeb6EqS\n",
       "BrzIhNwoswpAwl32A1mcEchXMIuk+qxyOeO+4biHizNGAnUt3iISz0EAgJmh+PeYeZjpSow37D0d\n",
       "P6KkTsJvos3l9IAZnGEZtLaQTYr8hPXVK/PC+7ovTAJMikc4KmY+0uATAguasGAnJovV2F4kaiTb\n",
       "UKmT7PI9DoN6aDz8orlWmyVTRv/FFk9SMnlXFUPZ6Qc7L1EuOnap5NF7CKP2O6g2dDjdqZ/b4U7w\n",
       "QuXNhOwWP4+a4SS4axm58zvRkrKhX89uFzN/iPr2sIkCw5NZHHsTOneu6AV/tTiaetVrd9ZWkRuV\n",
       "YhlRNqcgUCB023IYSu0oQy7ugGj3PLw3TniLvyB/HEAA/3rzJQ9UEiWsgqakC5PJfMjhqPeH33Y/\n",
       "tloVroXVIT7d1by1UDNvScAAAAI8QZrpSeEPJlMCH//+qZ/mlL/4TgAcSSq9t48MhIMlp3HfASLc\n",
       "3VLC4WPHHYJBkdwGwvIGIqGe7ctl4wI+wcybJTV9nnoSrwUIYexzbYqCyhuflmQatF01JtTWSZy3\n",
       "aAFKFx3OXwzNrn2LeVgKr1YL/MJHHfrJ67XILBB1+O+NOkvlkWHN/3hUgEQNtTeYrdVjUEQymHkG\n",
       "trNjgqWHoBBvMWiOd4IJa+w5bBsXmlEOV0usGS918+jLLzZqzWNQDSWOt1AFHGBuLdsml239G7C2\n",
       "iaP8F6LnumY9Or4jGkxqUsZPHr9eNWUv/tfdZz61GucsaTkN75/oqtVZ5KPRIbTXcao/HY4kgfSj\n",
       "iyvdomq1QS1RZeIY7axNM8QYCDEjSFEnZpRSIObQ8guYOnCt8bUp1ELZXXnXTQ6oYXWaV5Ea3GR0\n",
       "4+51RJCkVhJvfkw/6scEt7Kwt0Kmpzl4EiAUVh2GjxAteSKDVEy1FoMVLsiDURs+IsgL4lxM6cCk\n",
       "R18IUcGiDGBiSVmy1t6MB6bNLniTNBpZxVefwIwPEtecurp0NDx0aOsmSPamaFX7eF3xFzCs2TIv\n",
       "Znjytdl0oAfoo2E6V2PE8x7WSECdXVKritb4CUn7HjgxZib7A2p/OLOHYRNn133n2OvVDs+0lsXQ\n",
       "zDK8MrdLvlXNYb226FJfwChy0RLuM/RRSWWKEOWE2z85u94hCGbCFZH+QJlxSsy1hgSYOBNgxani\n",
       "L+FajWKPkm2W3sjzwYTsS+a7L3XtYsAAAAKlQZsKSeEPJlMCH//+qZ/o4PGffMYAIQrzDnYcYjdy\n",
       "SfcMSw9iJEnMukM7ScCQMLF/xqBNZVHV76Xe1XQnm3iojmoMoje/zlQKHb6d8hC+ykFTfhrPnuMy\n",
       "wI6G1H6yff0bCgVs0evs9ytGgpBpT3pnZF2Ij7cQjBbF16IASYuh66HM/wMBcAuaO+MJRUB0MoGE\n",
       "O34g63Lgoh0Fi6i+MLZrXBm7oAq9BXK44jYeTvGOWXb/+/e4pn4ZsIGPTnFrpLkSWCgrw9SpIAcf\n",
       "2T/97N06c94FJUHkisZkUAXJofHyxgUEULR7HATHJ+m+9FR9pK/XvP88NXLE72iYMH9tvMweRpxi\n",
       "VMw/Ds9i56v090PvLqWweuHdFuynCof0j6FggDhp+iY/1kTIdVILoh/UTjiXlAEwpgI3mz+mAX2H\n",
       "8ogGJQbXed+BuWIt/7rqjPCRMs3dw/b6bVy7PbYdoIOECoQE0Y8ce4pnuu7N7PxIbYrnuZA72Cct\n",
       "1FFjd1uKeSWDiwR9cEY6Xd2YtwM5+Qy0sSxsbCXd+xbtJU7OtcGGffskeEKJk0FEAFcOLRrq3bFE\n",
       "DJuAu54Zx/rfH6sJ1Hv2PLCrVUd0CcjUmchQTiMwTdn0tJ7ia0HzpfHgYJ7i++VSQFUaEAk6Z8H6\n",
       "5+U1DpcRy2IG1RSIaa5aPz+GbiIrTUHjMZHZOFYsW2R+mByFxmFMgqlxyyMRjc5s9RtxpNjv98QV\n",
       "DyFQGNXMqC9XXSVvx7p1w9VC50tEJrg3l0PBLlpsc6PLZNGsmIQOPPy9MLfw8TKmxZtJeRjiKuj8\n",
       "cX6TRWUBklNTwJE1M/NrKVWdSRsFKwoa+DQN4r2Fsaw+w7zBuz5ngGV/MTH+vPjI2Ztix5DN9Aut\n",
       "800KOrRPsZerFM3IW1Kbw+mOeXEAAAJaQZsrSeEPJlMCH//+qaBSQ8FgA/ZsMOP9fahOA5Q/AHV3\n",
       "y3NDjAzoFupWeyYPD6anT/OT2heKZDRH7XaB43+o10OwYdVdK5ruzM5+4KnljDJeQITru5hbCZZs\n",
       "23KY3hRHAOrY7zP1sZKCDZkXpjfzxpNhtGGwxZkuh7oMc++hk0LpVxfDwMQPS6Zol5qpr+TR0yrH\n",
       "S6xPfL4d3PdbmaUSXZg/YXz4aUBbhB0e3+6Aqmf/QdVrnsH0AcXf9t2iDnKNtm+1j2JLxtv/XJlZ\n",
       "0aC7zfF3JD4rttnHpcDiqXiuTWEEfcuo8LSsSMpQ2u1Xrz+IKtl/L33C24GzskRl+K/4ZmTIt6af\n",
       "QK3vH0njpm4MHw3PieAUsSNOCd5asBqPTDrOwxGxJTBF4x0jC9I6wQavSxGLbaB+OGCgZH3n6U+O\n",
       "3jzMVf6/mH8O+6BymlNgo1GWAi/kgGFjJFpprTgkft4p91MYIuyPKzA/KfPf1lLPjc8l+GigRNzY\n",
       "Ggb+MjknO3lOzx6Xar2yw78puvOJhGyhAZcwyS2AANUy54/BehpMTjO9lifOxUDhBsu5vQYQqTBO\n",
       "oXRfUQ/CuIB9/Wm5WF1sNuhOq5t6/l0Pj9E2PoF5SmL46+Lg+Sfxr0HTiHr5s7XTpafhrPiAyohB\n",
       "DGAUi8q+/E9K1ZC97C18E7utSLrn3beN3qyrTUesn9h3qEW4tFAZzaVDU4zZIoI1doUUKaGymQHY\n",
       "m9w1hJ7H7hXVpDOZSDqQy/BLdEHlc2QCZkgXrAn7OkWQFULj3sutR5NVAD+EfJ1p1tv18IY2VaMA\n",
       "AAI3QZtMSeEPJlMCH//+qZ/raEHro1gAmmQmyivdD5aObTebNVa64+Jzb8nfF4F8s08eN5SHpmWG\n",
       "jad9AxEQWbJtLWev1obh8zIoe/qHrI85NAgdRZDnmC09pWuiPlgQSnbtHBotZmP05skEuqnmao/b\n",
       "C/DLt49Zr9Qqt5qHQnOyhYQaKZtFE558uofgSycxeaL6SXbIzWiVaGRrKUESq+472imJ8QEOoLmK\n",
       "wydskc97WT+HtFKSivDUnlC/ueiBqoEEI4qH/N9Qe0oxzQ6bfyaZMsf3iO+MhogOm1H5dEEIpkTu\n",
       "LBlU4F6ku5R67975sBgJtAmBgA3cddZhKkySlsahEDRS3gnY6dun0NOhuxQiJs6Su7M89L8U14iH\n",
       "o3BgiVC1WlqWjZYTBt7HWVYmjDSpqGGRKrvwkEf8T7LulsCNa7w4o2F/uukPf+Ec5wZHMArc57+/\n",
       "pgL+lmZ7FK+jLAeTRN6EeSIc6taxK6QV7Hhu+0auwSt4fp2SqOmw/NEolJJBeu3FktDGGdFcsz9G\n",
       "YNw1e6xIDFbEJFa+wpWdr5qbGtczep4DtWoDz4UN4z4ix6vN6r7PD73Ewj+r3ClqJrXxY86QezeV\n",
       "NwTqfh9oeLHGW5ePFwJKvhIRG7YWnA8BpmjXqAebIbVzmuNx2vadRsPG0K6lHFXkP4Slgv/Kr7LY\n",
       "EhV6jqGTsUBIF2IlH0WYd7xnioYZ1IET8j/n8tJsQ/hQqo3/ZjmhgrtPHHM14R3Emar/ssMMTGfA\n",
       "AAACO0GbbUnhDyZTAgh//qpZECJaBFgACBuBfYkszx8PwVGIj4KXPJSRpla9MyP57DynnCZzm2oY\n",
       "7mxsBkj1Oi1b1Hj5Vmy3Js/ObncuHtZRlHGD5xyzrLrjtd9kw6z0rbUH9mWDESr89R4jx5k9okcJ\n",
       "ogWFbk3nwLye5HFUVtpONWZn6jWFRf4T1oQfjpoUYSklsJ8/CX2IdC6tnchaJLfiZeJvL+s1pXFH\n",
       "pkGALAgNE7YX+seOWITPD7RDLqvzi3AOY36Wnhn2kxIUu5AziuBgWsR7LyK3satZarjBZxWHT7iN\n",
       "/fTjw/lMHUzTijMPWYIK16+S6LcHN/Oa696qZUWJLj2lBoe3ARFDvXX/jEk+akU0tDhYWI0UFzQ4\n",
       "SqkmWHPrCJZ8Hfd6rA+tqcIvLawFzuolChCDJB4YEWi5axTh0dgQ0yBxGjZaXU18MREPtfUUUqVc\n",
       "qOvG7H+kTAsCnZwEBHVd+FGHAuSnjgGnaPinrpXMzponlWZwC9gGA9jrt8ypd7BPor+gpZ+8VvzJ\n",
       "fR2MERva400EDparKCtcNgxw9rnmsQw1pxSvdbJXz6gS7JDx9xF23hDD2fm1Q+Xe24eY7DvUV5Ub\n",
       "soOp4OeyGs912GdKx8uyPu4En3w/MIOVBd5drna1RbXU2f94PKgsCNFVm+ziQTPrALSyJeRUvH7z\n",
       "WvxFmPpEu3UZnFgHgE5Ir9aGWO/MoHSANNgyM5uGEsURAAsWO0suPQ7pFtamEHdt8zA9DD7P9ads\n",
       "RgmIEhcAAAJEQZuPSeEPJlMFETw///6poBFDQAQ+nqrZEtlw3ncweqBm5jHT1HcLG3GWQcqZfZd6\n",
       "bcN2+6W13+26n1Xeqd6pZp77wMbSe8rWNlAtdOxrEms4PBeAviyRbW9JO+C+RK8v+3qbPKHFO9gK\n",
       "UFffbUfI+Y7TtsMryXn425YPEU8o1GRYzgadQrMyK4l0ymTOK9+UygZ7IRVk4O+1OF85O17oCRYi\n",
       "KZ5QUujg/Z/cqAYxEvFXp9Z9hodBuXQS+f6+h3t07Uv1ksO5fttFeST6HgvjqkDfHM7XI1c/0xab\n",
       "IyNjX5Rq3fyouqevuMadlenOfKgrt6dBWCuUDdf3uOr0MGOF/xvE1NAlb3F6WhCV1g7g2bvvwNAz\n",
       "ewax7LbcmPL+ExroihgWGzs0roAO8kZ/cjIk3N/NzXMYa3CcIp88y35CQEwKAQyI+lHe6XViN61H\n",
       "DG2Jsy9vLWGG9ocJjjoBtJ2fFN+/N4x9PZztwoTxeMXrliTdlp7z559C3Pgmm/ecZYY9POguiECY\n",
       "+nfNWbWAWGgZGs6iDpUVq+RyEcqKUaMQLe0/pdW348iY76Lq2Ay+9be2tjq9Zrss5OAvgewW/D2+\n",
       "4au1ZIFWgzXqHHwiO3hqTkE2e1sq/qZxxgXygDspEqsIlvZFzFbo5xFrX6plcfgn3ox3p4yyrT1T\n",
       "0JRSv8ZuUBjkrRn8KVx0u6ScKEMLkB7wB8pPhz6Gp+7kOp6QGstJrSHK4RBL1yMip4pkaXvfgfpS\n",
       "iZ8FPhLPyiwPrdadr77Lb9qAeQAAAJwBn65qQ38IZ4EQAhNHr/s2LeniNMh7u7DmZ43KbTYNkInw\n",
       "L0yQtLxCObavpYyUqciA4nfeBRoVo3HjqMVB3PlGD48a09TojMwtqwRD4C8fblqkccBtDWA8OOmY\n",
       "tRSuKVpbm9Hx6BB0gvfcCE81XEBke5fYMBjwmok3xnBQgu9lRlGbwHkQa/2u7wYUnu7SSxrGkGxS\n",
       "SrYIOk4QDbkAAAIQQZuxSeEPJlMFPD///qmgJgRoAHZoG2UW2kXbhTzBipXm3Nq9Nwfq6c7pu77U\n",
       "gQ5wWMTpl7M6D2WitwLNsBDA1iwRVbIBxe873Eq7it6hbKk7WM7aCtbf+NdGuqM20/kzbj18au8s\n",
       "p6lb1uex1u9Y1KRFwry+ozN/eI8ptkrHbl4f/syFK42uJMunRy65/1oT6mPWxMEXX01/KBNoWWx1\n",
       "kFcLJum1K/UnRwidEprkC3A+lGYHrj9CrG7l5ksIn2UTt1R+wGPXa/P/nTyxGWIk5Kx92R/Engva\n",
       "tiSo3t9t2LVl0S+5Xi/H5xpaX5ek3nM6C+PqOUeLexnUTcGnPvBf/pZAGx/7paqkv16sj8Tlu5q6\n",
       "0WZSn+ipHhy+3+h+dPHlwzVRoxBKh1KhQQYVxp+nR1fW2JYhrmQWa21iDFGDyflA2KH4k2CKCk1a\n",
       "nFDgylrV1MyqbzeG6r5ysWktHPc0SFLD7etXXRFuet9e4H4GrjgGpZxJ0PlR43/q//Iehpa1frgw\n",
       "ftFFgB9EgOcZ1BhAwf93r8k4nvh2xc+CVOFzllPkg0e83o7fV/zfhkgMaDYy7I8R6TSHw4v1Cz0/\n",
       "wUJI+cqBgzvVjlFvnJxfBrtDSNBDd7xqAAMnkjrVndBsHj4LMN4hmHMQjBoXAjf1aQBm3GEuWxxR\n",
       "j5yPfvXztQbEcjOXhlQyec4HPc2MuU53pOC4AAAApQGf0GpDfwekACCd0diAD423CO69n1x87PUh\n",
       "OQhpfGYz0jfM7QGEdhvs0BNve/oDUGyWBfuodkYYc7LmIVM/1SCqj1PLh/cdqjr8jJaSej8EPHf2\n",
       "/F3wyzjEO2P/szrfYh+kKlxZQbTUMaJr/Y/pUXvY5/JvNYnzBZ26kacKtVZPcRdCrKP4vBYm3dYS\n",
       "1mhQfsU63xWeDLLpQAsd73J4iOAq3VwScAAAAR9Bm9NJ4Q8mUwU8N//+p5QWvWC5cgA2lArdGinm\n",
       "+mexQT9/kPdfKSPczwUw/9F0jL1iNoklnhO0E7Z/j+yBpnqCZSitssqBnE93BzZ+rsQVDjY6KcPY\n",
       "l2DFtpPjh06dAOthwE/EfhZ3hS4vsaZLKJxnONT5xO3tvFxmqgeEyHsO1gXaWZ0yeswIi2zfW1EM\n",
       "dlDoBGxrGeojJ5PPtm87H/iLD57yk2BTOpXc+6ztP54AvgHNSBWHbdFdBRkg4lasIfu/Gk3JK5RH\n",
       "9xZa7LlKZD7B1IdTvUTZIjYd8phmaHzH8+SaT4yY6BM1BHnZ2HxysbRGf4j5DBEo2qRQexrw49Rc\n",
       "iL4GfX+eYKQOtanUaGeMYyj5iUUGkPGLssi5jGJ2pwAAAKkBn/JqQ38IXnbcJAAhKqN6cS7Y0Ps9\n",
       "Cn0Q7H1hN8dZCBe4qbwPDddcXim7m6uFis8+toDUND/E6iyrCpPVILh2PTl1zf9v/FrBhOeuKmlN\n",
       "StgbbzXR0uVJHN1J16tQyCoAGtOXBz9A4uHAi2Rr8q5BmOhmycR0eLkBT++u1hJ8vlUlUHJaAL0W\n",
       "UJjvHf9bg9bFFdzJOQ2F8dMMAXLeVqUJEqJ1+Sqs56FfAAAD3m1vb3YAAABsbXZoZAAAAAAAAAAA\n",
       "AAAAAAAAA+gAAAfQAAEAAAEAAAAAAAAAAAAAAAABAAAAAAAAAAAAAAAAAAAAAQAAAAAAAAAAAAAA\n",
       "AAAAQAAAAAAAAAAAAAAAAAAAAAAAAAAAAAAAAAAAAAAAAAIAAAMIdHJhawAAAFx0a2hkAAAAAwAA\n",
       "AAAAAAAAAAAAAQAAAAAAAAfQAAAAAAAAAAAAAAAAAAAAAAABAAAAAAAAAAAAAAAAAAAAAQAAAAAA\n",
       "AAAAAAAAAAAAQAAAAAGwAAABIAAAAAAAJGVkdHMAAAAcZWxzdAAAAAAAAAABAAAH0AAACAAAAQAA\n",
       "AAACgG1kaWEAAAAgbWRoZAAAAAAAAAAAAAAAAAAAKAAAAFAAVcQAAAAAAC1oZGxyAAAAAAAAAAB2\n",
       "aWRlAAAAAAAAAAAAAAAAVmlkZW9IYW5kbGVyAAAAAittaW5mAAAAFHZtaGQAAAABAAAAAAAAAAAA\n",
       "AAAkZGluZgAAABxkcmVmAAAAAAAAAAEAAAAMdXJsIAAAAAEAAAHrc3RibAAAALNzdHNkAAAAAAAA\n",
       "AAEAAACjYXZjMQAAAAAAAAABAAAAAAAAAAAAAAAAAAAAAAGwASAASAAAAEgAAAAAAAAAAQAAAAAA\n",
       "AAAAAAAAAAAAAAAAAAAAAAAAAAAAAAAAAAAAABj//wAAADFhdmNDAWQAFf/hABhnZAAVrNlBsJaE\n",
       "AAADAAQAAAMAUDxYtlgBAAZo6+PLIsAAAAAcdXVpZGtoQPJfJE/FujmlG88DI/MAAAAAAAAAGHN0\n",
       "dHMAAAAAAAAAAQAAABQAAAQAAAAAFHN0c3MAAAAAAAAAAQAAAAEAAABwY3R0cwAAAAAAAAAMAAAA\n",
       "AwAACAAAAAABAAAMAAAAAAEAAAQAAAAAAQAADAAAAAABAAAEAAAAAAcAAAgAAAAAAQAADAAAAAAB\n",
       "AAAEAAAAAAEAAAwAAAAAAQAABAAAAAABAAAMAAAAAAEAAAQAAAAAHHN0c2MAAAAAAAAAAQAAAAEA\n",
       "AAAUAAAAAQAAAGRzdHN6AAAAAAAAAAAAAAAUAAAb3wAABVkAAAMgAAADswAAASAAAAMoAAAA5gAA\n",
       "AlYAAAJvAAACQAAAAqkAAAJeAAACOwAAAj8AAAJIAAAAoAAAAhQAAACpAAABIwAAAK0AAAAUc3Rj\n",
       "bwAAAAAAAAABAAAALAAAAGJ1ZHRhAAAAWm1ldGEAAAAAAAAAIWhkbHIAAAAAAAAAAG1kaXJhcHBs\n",
       "AAAAAAAAAAAAAAAALWlsc3QAAAAlqXRvbwAAAB1kYXRhAAAAAQAAAABMYXZmNTcuODMuMTAw\n",
       "\">\n",
       "  Your browser does not support the video tag.\n",
       "</video>"
      ],
      "text/plain": [
       "<IPython.core.display.HTML object>"
      ]
     },
     "execution_count": 105,
     "metadata": {},
     "output_type": "execute_result"
    }
   ],
   "source": [
    "HTML(anim.to_html5_video())"
   ]
  },
  {
   "cell_type": "code",
   "execution_count": null,
   "metadata": {},
   "outputs": [],
   "source": []
  }
 ],
 "metadata": {
  "kernelspec": {
   "display_name": "Python 3",
   "language": "python",
   "name": "python3"
  },
  "language_info": {
   "codemirror_mode": {
    "name": "ipython",
    "version": 3
   },
   "file_extension": ".py",
   "mimetype": "text/x-python",
   "name": "python",
   "nbconvert_exporter": "python",
   "pygments_lexer": "ipython3",
   "version": "3.7.3"
  }
 },
 "nbformat": 4,
 "nbformat_minor": 2
}
