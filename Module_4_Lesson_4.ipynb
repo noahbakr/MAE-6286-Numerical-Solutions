{
 "cells": [
  {
   "cell_type": "markdown",
   "metadata": {},
   "source": [
    "# SOLVING THE 2D HEAT EQUATION - IMPLICIT"
   ]
  },
  {
   "cell_type": "code",
   "execution_count": 5,
   "metadata": {},
   "outputs": [
    {
     "data": {
      "text/html": [
       "<img src=\"https://jupyter.lai.gwu.edu/user/nbakr10/notebooks/numerical-mooc/lessons/04_spreadout/figures/2dchip.svg\"/>"
      ],
      "text/plain": [
       "<IPython.core.display.Image object>"
      ]
     },
     "execution_count": 5,
     "metadata": {},
     "output_type": "execute_result"
    }
   ],
   "source": [
    "from IPython.display import Image\n",
    "from IPython.core.display import HTML \n",
    "Image(url= \"https://jupyter.lai.gwu.edu/user/nbakr10/notebooks/numerical-mooc/lessons/04_spreadout/figures/2dchip.svg\")"
   ]
  },
  {
   "cell_type": "code",
   "execution_count": 31,
   "metadata": {},
   "outputs": [],
   "source": [
    "import numpy as np\n",
    "from scipy import linalg\n",
    "from matplotlib import pyplot\n",
    "%matplotlib inline"
   ]
  },
  {
   "cell_type": "code",
   "execution_count": 39,
   "metadata": {},
   "outputs": [],
   "source": [
    "#set the parameters\n",
    "L= 0.01\n",
    "nx, ny = 21, 21\n",
    "dx = L / (nx - 1)\n",
    "dy = L / (ny - 1)\n",
    "x = np.linspace(0, L, num=nx)\n",
    "y = np.linspace(0, L, num=ny)\n",
    "alpha = 1e-4\n",
    "\n",
    "#set the initial condition\n",
    "T0 = np.full((ny, nx), 20.0)\n",
    "Tb = 100.0\n",
    "T0[:, 0] = 100.0 #bottom\n",
    "T0[0, :] = 100.0 #left"
   ]
  },
  {
   "cell_type": "code",
   "execution_count": 40,
   "metadata": {},
   "outputs": [],
   "source": [
    "def btcs(T0, nt, dt, dx, alpha, Tb):\n",
    "    \n",
    "    sigma = alpha * dt / dx**2\n",
    "    ny, nx = T0.shape\n",
    "    M, N = nx - 2, ny - 2\n",
    "    \n",
    "    #assemble the LHS operator from the function\n",
    "    A = lhs_operator(M, N, sigma)\n",
    "    \n",
    "    #get the temperature as a 1D array\n",
    "    T = T0[1:-1, 1:-1].flatten()   #interior points as a 1d array\n",
    "    \n",
    "    #integrate in time\n",
    "    for n in range(nt):\n",
    "        b = rhs_vector(T, M, N, sigma, Tb)\n",
    "        T = np.linalg.solve(A, b)\n",
    "    \n",
    "    \n",
    "    #I, J = int(M/2), int(N/2) # indices at the center of the chip to know when it is 70 degrees\n",
    "    \n",
    "    return map_1d_to_2d(T, nx, ny, Tb)"
   ]
  },
  {
   "cell_type": "code",
   "execution_count": 41,
   "metadata": {},
   "outputs": [],
   "source": [
    "def lhs_operator(M, N, sigma):\n",
    "    \n",
    "    A = np.zeros((M * N, M * N))\n",
    "    \n",
    "    for j in range(N):\n",
    "        \n",
    "        for i in range(M):\n",
    "            \n",
    "            I = j * M + i\n",
    "            \n",
    "            south = I - M\n",
    "            west = I - 1\n",
    "            east = I + 1\n",
    "            north = I + M\n",
    "            \n",
    "            #set up coefficients at the corner points\n",
    "            if i == 0 and j == 0:  # bottom-left corner\n",
    "                A[I, I] = 1.0 / sigma + 4.0\n",
    "                A[I, east] = -1.0\n",
    "                A[I, north] = -1.0\n",
    "            elif i == M - 1 and j == 0:  # bottom-right corner\n",
    "                A[I, I] = 1.0 / sigma + 3.0\n",
    "                A[I, west] = -1.0\n",
    "                A[I, north] = -1.0\n",
    "            elif i == 0 and j == N - 1:  # top-left corner\n",
    "                A[I, I] = 1.0 / sigma + 3.0\n",
    "                A[I, south] = -1.0\n",
    "                A[I, east] = -1.0\n",
    "            elif i == M - 1 and j == N - 1:  # top-right corner\n",
    "                A[I, I] = 1.0 / sigma + 2.0\n",
    "                A[I, south] = -1.0\n",
    "                A[I, west] = -1.0\n",
    "                \n",
    "                \n",
    "            # Setup coefficients at side points (excluding corners).\n",
    "            elif i == 0:  # left side\n",
    "                A[I, I] = 1.0 / sigma + 4.0\n",
    "                A[I, south] = -1.0\n",
    "                A[I, east] = -1.0\n",
    "                A[I, north] = -1.0\n",
    "            elif i == M - 1:  # right side\n",
    "                A[I, I] = 1.0 / sigma + 3.0\n",
    "                A[I, south] = -1.0\n",
    "                A[I, west] = -1.0\n",
    "                A[I, north] = -1.0\n",
    "            elif j == 0:  # bottom side\n",
    "                A[I, I] = 1.0 / sigma + 4.0\n",
    "                A[I, west] = -1.0\n",
    "                A[I, east] = -1.0\n",
    "                A[I, north] = -1.0\n",
    "            elif j == N - 1:  # top side\n",
    "                A[I, I] = 1.0 / sigma + 3.0\n",
    "                A[I, south] = -1.0\n",
    "                A[I, west] = -1.0\n",
    "                A[I, east] = -1.0\n",
    "                \n",
    "            \n",
    "            # Setup coefficients at interior points.\n",
    "            else:\n",
    "                A[I, I] = 1.0 / sigma + 4.0\n",
    "                A[I, south] = -1.0\n",
    "                A[I, west] = -1.0\n",
    "                A[I, east] = -1.0\n",
    "                A[I, north] = -1.0\n",
    "    return A"
   ]
  },
  {
   "cell_type": "code",
   "execution_count": 42,
   "metadata": {},
   "outputs": [],
   "source": [
    "def rhs_vector(T, M, N, sigma, Tb):\n",
    "    \n",
    "    b = 1.0 / sigma * T\n",
    "    \n",
    "    # Add Dirichlet term at points located next\n",
    "    # to the left and bottom boundaries.\n",
    "    \n",
    "    for j in range(N):\n",
    "        for i in range(M):\n",
    "            I = j * M + i\n",
    "            if i == 0:\n",
    "                b[I] += Tb\n",
    "            if j == 0:\n",
    "                b[I] += Tb\n",
    "    return b"
   ]
  },
  {
   "cell_type": "code",
   "execution_count": 43,
   "metadata": {},
   "outputs": [],
   "source": [
    "def map_1d_to_2d(T_1d, nx, ny, Tb):\n",
    "    \n",
    "    T = np.zeros((ny, nx))\n",
    "    \n",
    "    # Get the value at interior points.\n",
    "    T[1:-1, 1:-1] = T_1d.reshape((ny - 2, nx - 2))\n",
    "    \n",
    "    # Use Dirichlet condition at left and bottom boundaries.\n",
    "    T[:, 0] = Tb\n",
    "    T[0, :] = Tb\n",
    "    \n",
    "    # Use Neumann condition at right and top boundaries.\n",
    "    T[:, -1] = T[:, -2]\n",
    "    T[-1, :] = T[-2, :]\n",
    "    \n",
    "    return T"
   ]
  },
  {
   "cell_type": "code",
   "execution_count": 44,
   "metadata": {},
   "outputs": [],
   "source": [
    "sigma = 0.25\n",
    "dt = sigma * min(dx, dy)**2 / alpha  # time-step size\n",
    "nt = 300  # number of time steps to compute\n",
    "\n",
    "T = btcs(T0, nt, dt, dx, alpha, Tb)\n"
   ]
  },
  {
   "cell_type": "code",
   "execution_count": 45,
   "metadata": {},
   "outputs": [
    {
     "data": {
      "image/png": "[encoded data removed]",
      "text/plain": [
       "<Figure size 648x432 with 2 Axes>"
      ]
     },
     "metadata": {
      "needs_background": "light"
     },
     "output_type": "display_data"
    }
   ],
   "source": [
    "pyplot.figure(figsize=(9.0, 6.0))\n",
    "pyplot.xlabel('x [cm]')\n",
    "pyplot.ylabel('y [cm]')\n",
    "contf = pyplot.contourf(x * 100, y * 100, T, cmap = 'jet');\n",
    "cbar = pyplot.colorbar(contf)\n",
    "cbar.set_label('Temperature [C]')"
   ]
  },
  {
   "cell_type": "code",
   "execution_count": null,
   "metadata": {},
   "outputs": [],
   "source": []
  }
 ],
 "metadata": {
  "kernelspec": {
   "display_name": "Python 3",
   "language": "python",
   "name": "python3"
  },
  "language_info": {
   "codemirror_mode": {
    "name": "ipython",
    "version": 3
   },
   "file_extension": ".py",
   "mimetype": "text/x-python",
   "name": "python",
   "nbconvert_exporter": "python",
   "pygments_lexer": "ipython3",
   "version": "3.7.3"
  }
 },
 "nbformat": 4,
 "nbformat_minor": 2
}
