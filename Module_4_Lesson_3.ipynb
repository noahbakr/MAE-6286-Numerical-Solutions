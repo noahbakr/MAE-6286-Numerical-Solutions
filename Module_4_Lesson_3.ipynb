{
 "cells": [
  {
   "cell_type": "markdown",
   "metadata": {},
   "source": [
    "# SOLVING THE 2D HEAT DIFFUSION EQUATION"
   ]
  },
  {
   "cell_type": "code",
   "execution_count": 12,
   "metadata": {},
   "outputs": [
    {
     "data": {
      "text/html": [
       "<img src=\"https://jupyter.lai.gwu.edu/user/nbakr10/notebooks/numerical-mooc/lessons/04_spreadout/figures/2dchip.svg\"/>"
      ],
      "text/plain": [
       "<IPython.core.display.Image object>"
      ]
     },
     "execution_count": 12,
     "metadata": {},
     "output_type": "execute_result"
    }
   ],
   "source": [
    "from IPython.display import Image\n",
    "from IPython.core.display import HTML \n",
    "Image(url= \"https://jupyter.lai.gwu.edu/user/nbakr10/notebooks/numerical-mooc/lessons/04_spreadout/figures/2dchip.svg\")"
   ]
  },
  {
   "cell_type": "code",
   "execution_count": 13,
   "metadata": {},
   "outputs": [],
   "source": [
    "import numpy as np\n",
    "from matplotlib import pyplot \n",
    "%matplotlib inline"
   ]
  },
  {
   "cell_type": "code",
   "execution_count": 14,
   "metadata": {},
   "outputs": [],
   "source": [
    "L = 0.01\n",
    "nx, ny = 21, 21\n",
    "dx = L/(nx-1)\n",
    "dy = L/(ny-1)\n",
    "\n",
    "x = np.linspace(0, L, num=nx)\n",
    "y = np.linspace(0, L, num=ny)\n",
    "\n",
    "alpha = 1e-4\n",
    "\n",
    "# Initial Conditions \n",
    "T0 = np.full((ny, nx), 20.0)\n",
    "T0[0, :] = 100.0  #bottom boundary\n",
    "T0[:, 0] = 100.0 # left boundary"
   ]
  },
  {
   "cell_type": "code",
   "execution_count": 15,
   "metadata": {},
   "outputs": [],
   "source": [
    "def ftcs(T0, nt, dt, dx, dy, alpha, qx=0.0, qy=0.0):\n",
    "    \n",
    "    T = T0.copy()\n",
    "    sigma_x = alpha * dt / dx**2\n",
    "    sigma_y = alpha * dt / dy**2\n",
    "    \n",
    "    ny, nx = T.shape\n",
    "    I, J = int(nx/2), int(ny/2) # indices at the center of the chip to know when it is 70 degrees\n",
    "    \n",
    "    for n in range(nt):\n",
    "        T[1:-1, 1:-1] = (T[1:-1, 1:-1]  +  \n",
    "                         sigma_x * (T[1:-1, :-2] - 2*T[1:-1, 1:-1] + T[1:-1, 2:]) + \n",
    "                         sigma_y * (T[:-2, 1:-1] - 2*T[1:-1, 1:-1] + T[2:, 1:-1]))\n",
    "    \n",
    "        # Update Boundary Values where you have a Neumann (derivative) condition\n",
    "        T[:, -1] = T[:, -2] + qx * dx # right boundary at x = 0.01\n",
    "        T[-1, :] = T[-2, :] + qy * dy # top boundary at y = 0.01\n",
    "        \n",
    "        #if the temp reaches 70 degrees, end the for loop early\n",
    "        if T[J, I] >= 70.0:     \n",
    "            break\n",
    "    \n",
    "    #print the time step and temperature when the for loop was broken\n",
    "    print(n + 1, T[J, I])\n",
    "    \n",
    "    return T\n",
    "    "
   ]
  },
  {
   "cell_type": "code",
   "execution_count": 26,
   "metadata": {},
   "outputs": [
    {
     "name": "stdout",
     "output_type": "stream",
     "text": [
      "256 70.02138294076661\n"
     ]
    }
   ],
   "source": [
    "nt = 500\n",
    "sigma = 0.25\n",
    "dt = sigma * min(dx, dy)**2 / alpha\n",
    "\n",
    "T = ftcs(T0, nt, dt, dx, dy, alpha)"
   ]
  },
  {
   "cell_type": "code",
   "execution_count": 34,
   "metadata": {},
   "outputs": [
    {
     "data": {
      "image/png": "[encoded data removed]",
      "text/plain": [
       "<Figure size 648x432 with 2 Axes>"
      ]
     },
     "metadata": {
      "needs_background": "light"
     },
     "output_type": "display_data"
    }
   ],
   "source": [
    "pyplot.figure(figsize=(9.0, 6.0))\n",
    "pyplot.xlabel('x [cm]')\n",
    "pyplot.ylabel('y [cm]')\n",
    "contf = pyplot.contourf(x * 100, y * 100, T, cmap = 'jet');\n",
    "cbar = pyplot.colorbar(contf)\n",
    "cbar.set_label('Temperature [C]')"
   ]
  },
  {
   "cell_type": "code",
   "execution_count": null,
   "metadata": {},
   "outputs": [],
   "source": []
  }
 ],
 "metadata": {
  "kernelspec": {
   "display_name": "Python 3",
   "language": "python",
   "name": "python3"
  },
  "language_info": {
   "codemirror_mode": {
    "name": "ipython",
    "version": 3
   },
   "file_extension": ".py",
   "mimetype": "text/x-python",
   "name": "python",
   "nbconvert_exporter": "python",
   "pygments_lexer": "ipython3",
   "version": "3.7.3"
  }
 },
 "nbformat": 4,
 "nbformat_minor": 2
}
